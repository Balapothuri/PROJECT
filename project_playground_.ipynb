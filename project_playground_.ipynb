{
  "nbformat": 4,
  "nbformat_minor": 0,
  "metadata": {
    "colab": {
      "provenance": [],
      "authorship_tag": "ABX9TyOezHyznC7ZXKQTEkwp5Tn3",
      "include_colab_link": true
    },
    "kernelspec": {
      "name": "python3",
      "display_name": "Python 3"
    },
    "language_info": {
      "name": "python"
    }
  },
  "cells": [
    {
      "cell_type": "markdown",
      "metadata": {
        "id": "view-in-github",
        "colab_type": "text"
      },
      "source": [
        "<a href=\"https://colab.research.google.com/github/Balapothuri/PROJECT/blob/main/project_playground_.ipynb\" target=\"_parent\"><img src=\"https://colab.research.google.com/assets/colab-badge.svg\" alt=\"Open In Colab\"/></a>"
      ]
    },
    {
      "cell_type": "code",
      "execution_count": 2,
      "metadata": {
        "id": "Z6CnnUDdd75C"
      },
      "outputs": [],
      "source": [
        "import zipfile\n",
        "zipfile.ZipFile('project.zip').extractall('.')"
      ]
    },
    {
      "cell_type": "code",
      "source": [
        "from dtsc5502.version import __version__\n",
        "import dtsc5502.statistics as stats\n",
        "import dtsc5502.probabilities as probs\n",
        "print(__version__)\n",
        "lst =[1,2,3]\n",
        "print(stats.descriptive.mean(lst))\n",
        "print(probs.functions.factorial(3))"
      ],
      "metadata": {
        "id": "1yTh9XZzeSze",
        "colab": {
          "base_uri": "https://localhost:8080/"
        },
        "outputId": "e12657e9-c738-485e-abee-0bacdc53f1a5"
      },
      "execution_count": 4,
      "outputs": [
        {
          "output_type": "stream",
          "name": "stdout",
          "text": [
            "DTSC5502 Version: 0.1.0\n",
            "2.0\n",
            "6\n"
          ]
        }
      ]
    },
    {
      "cell_type": "code",
      "source": [
        "! git clone  https://github.com/Balapothuri/PROJECT.git"
      ],
      "metadata": {
        "id": "RTTbOMAjeUrP",
        "colab": {
          "base_uri": "https://localhost:8080/"
        },
        "outputId": "70546c1e-6724-4f34-f007-ec186cfbde94"
      },
      "execution_count": 5,
      "outputs": [
        {
          "output_type": "stream",
          "name": "stdout",
          "text": [
            "Cloning into 'PROJECT'...\n",
            "remote: Enumerating objects: 18, done.\u001b[K\n",
            "remote: Counting objects: 100% (18/18), done.\u001b[K\n",
            "remote: Compressing objects: 100% (15/15), done.\u001b[K\n",
            "remote: Total 18 (delta 2), reused 14 (delta 1), pack-reused 0\u001b[K\n",
            "Receiving objects: 100% (18/18), done.\n",
            "Resolving deltas: 100% (2/2), done.\n"
          ]
        }
      ]
    },
    {
      "cell_type": "code",
      "source": [
        "from PROJECT.dtsc5502.version import __version__\n",
        "import PROJECT.dtsc5502.statistics as stats\n",
        "import PROJECT.dtsc5502.probabilities as probs\n",
        "print(__version__)\n",
        "lst =[1,2,3]\n",
        "print(stats.descriptive.mean(lst))\n",
        "print(probs.functions.factorial(3))"
      ],
      "metadata": {
        "id": "UM0sW_iqeXbS",
        "colab": {
          "base_uri": "https://localhost:8080/"
        },
        "outputId": "3b3ab792-f9c9-4d09-a5f2-24dab631d76c"
      },
      "execution_count": 9,
      "outputs": [
        {
          "output_type": "stream",
          "name": "stdout",
          "text": [
            "DTSC5502 Version: 0.1.0\n",
            "2.0\n",
            "6\n"
          ]
        }
      ]
    }
  ]
}